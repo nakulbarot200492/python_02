{
 "cells": [
  {
   "cell_type": "code",
   "execution_count": 1,
   "id": "f34dbbd7-fe9a-4b6f-819f-a8c44fef3883",
   "metadata": {},
   "outputs": [
    {
     "name": "stdin",
     "output_type": "stream",
     "text": [
      "Enter the percentage:  80\n"
     ]
    },
    {
     "name": "stdout",
     "output_type": "stream",
     "text": [
      "Grade: C\n"
     ]
    }
   ],
   "source": [
    "# Question 1: Grading System\n",
    "\n",
    "def get_grade(percentage):\n",
    "    if percentage > 90:\n",
    "        return 'A'\n",
    "    elif percentage > 80 and percentage <= 90:\n",
    "        return 'B'\n",
    "    elif percentage >= 60 and percentage <= 80:\n",
    "        return 'C'\n",
    "    else:\n",
    "        return 'D'\n",
    "\n",
    "# Get input from user\n",
    "percentage = float(input(\"Enter the percentage: \"))\n",
    "\n",
    "# Display the grade\n",
    "grade = get_grade(percentage)\n",
    "print(f\"Grade: {grade}\")\n"
   ]
  },
  {
   "cell_type": "code",
   "execution_count": 2,
   "id": "d64916c9-ad67-41ea-b8be-f40eb0ee68f6",
   "metadata": {},
   "outputs": [
    {
     "name": "stdin",
     "output_type": "stream",
     "text": [
      "Enter the cost price of the bike (in Rs):  150000\n"
     ]
    },
    {
     "name": "stdout",
     "output_type": "stream",
     "text": [
      "Road tax to be paid: Rs. 22500.00\n"
     ]
    }
   ],
   "source": [
    "# Question 2: Road Tax Calculator\n",
    "\n",
    "def calculate_tax(cost_price):\n",
    "    if cost_price > 100000:\n",
    "        return 0.15 * cost_price\n",
    "    elif cost_price > 50000 and cost_price <= 100000:\n",
    "        return 0.10 * cost_price\n",
    "    else:\n",
    "        return 0.05 * cost_price\n",
    "\n",
    "# Get input from user\n",
    "cost_price = float(input(\"Enter the cost price of the bike (in Rs): \"))\n",
    "\n",
    "# Calculate and display the road tax\n",
    "tax = calculate_tax(cost_price)\n",
    "print(f\"Road tax to be paid: Rs. {tax:.2f}\")"
   ]
  },
  {
   "cell_type": "code",
   "execution_count": 3,
   "id": "94b6646e-3f75-4268-bfc4-780f757f8daf",
   "metadata": {},
   "outputs": [
    {
     "name": "stdin",
     "output_type": "stream",
     "text": [
      "Enter a city name (Delhi, Agra, or Jaipur):  agra\n"
     ]
    },
    {
     "name": "stdout",
     "output_type": "stream",
     "text": [
      "The monument in Agra is: Taj Mahal\n"
     ]
    }
   ],
   "source": [
    "# Question 3: City Monuments\n",
    "\n",
    "def get_monument(city):\n",
    "    monuments = {\n",
    "        \"Delhi\": \"Red Fort\",\n",
    "        \"Agra\": \"Taj Mahal\",\n",
    "        \"Jaipur\": \"Jal Mahal\"\n",
    "    }\n",
    "    return monuments.get(city.capitalize(), \"Monument not found for this city\")\n",
    "\n",
    "# Get input from user\n",
    "city = input(\"Enter a city name (Delhi, Agra, or Jaipur): \")\n",
    "\n",
    "# Display the monument\n",
    "monument = get_monument(city)\n",
    "print(f\"The monument in {city.capitalize()} is: {monument}\")\n",
    "\n"
   ]
  },
  {
   "cell_type": "code",
   "execution_count": 9,
   "id": "5325c50b-60b1-4c73-beab-dfe4c2cbedcd",
   "metadata": {},
   "outputs": [
    {
     "name": "stdin",
     "output_type": "stream",
     "text": [
      "Enter a number:  82\n"
     ]
    },
    {
     "name": "stdout",
     "output_type": "stream",
     "text": [
      "The number can be divided by 3 2 times before it's less than or equal to 10.\n"
     ]
    }
   ],
   "source": [
    "# Question 4: 4. Check how many times a given number can be divided by 3 before it is less than or equal to 10. \n",
    "\n",
    "def count_divisions(number):\n",
    "    \"\"\"\n",
    "    This function counts how many times a given number can be divided by 3\n",
    "    before it is less than or equal to 10.\n",
    "    \"\"\"\n",
    "    count = 0\n",
    "    while number > 10:\n",
    "        number /= 3\n",
    "        count += 1\n",
    "    return count\n",
    "\n",
    "# Get input from user\n",
    "number = int(input(\"Enter a number: \"))\n",
    "\n",
    "# Calculate and display the result\n",
    "divisions = count_divisions(number)\n",
    "print(f\"The number can be divided by 3 {divisions} times before it's less than or equal to 10.\")\n"
   ]
  },
  {
   "cell_type": "code",
   "execution_count": 11,
   "id": "76faab41-3857-4f89-8017-bacde36d17e5",
   "metadata": {},
   "outputs": [
    {
     "name": "stdout",
     "output_type": "stream",
     "text": [
      "Welcome to the guessing game!\n"
     ]
    },
    {
     "name": "stdin",
     "output_type": "stream",
     "text": [
      "Guess a number between 1 and 100:  30\n"
     ]
    },
    {
     "name": "stdout",
     "output_type": "stream",
     "text": [
      "Too low! Try again.\n"
     ]
    },
    {
     "name": "stdin",
     "output_type": "stream",
     "text": [
      "Guess a number between 1 and 100:  80\n"
     ]
    },
    {
     "name": "stdout",
     "output_type": "stream",
     "text": [
      "Too high! Try again.\n"
     ]
    },
    {
     "name": "stdin",
     "output_type": "stream",
     "text": [
      "Guess a number between 1 and 100:  60\n"
     ]
    },
    {
     "name": "stdout",
     "output_type": "stream",
     "text": [
      "Too low! Try again.\n"
     ]
    },
    {
     "name": "stdin",
     "output_type": "stream",
     "text": [
      "Guess a number between 1 and 100:  70\n"
     ]
    },
    {
     "name": "stdout",
     "output_type": "stream",
     "text": [
      "Too low! Try again.\n"
     ]
    },
    {
     "name": "stdin",
     "output_type": "stream",
     "text": [
      "Guess a number between 1 and 100:  75\n"
     ]
    },
    {
     "name": "stdout",
     "output_type": "stream",
     "text": [
      "Too high! Try again.\n"
     ]
    },
    {
     "name": "stdin",
     "output_type": "stream",
     "text": [
      "Guess a number between 1 and 100:  74\n"
     ]
    },
    {
     "name": "stdout",
     "output_type": "stream",
     "text": [
      "Too high! Try again.\n"
     ]
    },
    {
     "name": "stdin",
     "output_type": "stream",
     "text": [
      "Guess a number between 1 and 100:  73\n"
     ]
    },
    {
     "name": "stdout",
     "output_type": "stream",
     "text": [
      "Congratulations! You guessed the number in 7 attempts.\n"
     ]
    }
   ],
   "source": [
    "# Question 5: Why and When to Use while Loop in Python\n",
    "\n",
    "\"\"\"\n",
    "A while loop in Python is used when you want to repeat a block of code as long as a certain condition is true. \n",
    "It's particularly useful when:\n",
    "\n",
    "1. You don't know in advance how many times you need to repeat the code.\n",
    "2. You want to continue a process until a specific condition is met.\n",
    "3. You're dealing with user input and want to keep asking until valid input is received.\n",
    "\n",
    "Example: Let's create a simple guessing game to demonstrate the use of a while loop.\n",
    "\"\"\"\n",
    "\n",
    "import random\n",
    "\n",
    "# Generate a random number between 1 and 100\n",
    "secret_number = random.randint(1, 100)\n",
    "guess = None\n",
    "attempts = 0\n",
    "max_attempts = 10  # Set a maximum number of attempts\n",
    "\n",
    "print(\"Welcome to the guessing game!\")\n",
    "\n",
    "while guess != secret_number and attempts < max_attempts:\n",
    "    guess = int(input(\"Guess a number between 1 and 100: \"))\n",
    "    attempts += 1\n",
    "    \n",
    "    if guess < secret_number:\n",
    "        print(\"Too low! Try again.\")\n",
    "    elif guess > secret_number:\n",
    "        print(\"Too high! Try again.\")\n",
    "    else:\n",
    "        print(f\"Congratulations! You guessed the number in {attempts} attempts.\")\n",
    "\n",
    "if guess != secret_number:\n",
    "    print(f\"Sorry, you've used all {max_attempts} attempts. The secret number was {secret_number}.\")\n"
   ]
  },
  {
   "cell_type": "code",
   "execution_count": 12,
   "id": "152be8ec-b81d-42b8-b819-0d145243274f",
   "metadata": {},
   "outputs": [
    {
     "name": "stdout",
     "output_type": "stream",
     "text": [
      "Pattern 1: Right-Angled Triangle\n",
      "*\n",
      "**\n",
      "***\n",
      "****\n",
      "*****\n",
      "\n",
      "\n",
      "Pattern 2: Inverted Right-Angled Triangle\n",
      "*****\n",
      "****\n",
      "***\n",
      "**\n",
      "*\n",
      "\n",
      "\n",
      "Pattern 3: Pyramid\n",
      "    *\n",
      "   ***\n",
      "  *****\n",
      " *******\n",
      "*********\n"
     ]
    }
   ],
   "source": [
    "# Question 6: Nested While Loop Patterns to print 3 differents patterns\n",
    "\n",
    "# Pattern 1: Right-Angled Triangle\n",
    "rows = 5\n",
    "i = 1\n",
    "print(\"Pattern 1: Right-Angled Triangle\")\n",
    "while i <= rows:\n",
    "    j = 1\n",
    "    while j <= i:\n",
    "        print(\"*\", end=\"\")\n",
    "        j += 1\n",
    "    print()\n",
    "    i += 1\n",
    "\n",
    "print(\"\\n\")\n",
    "\n",
    "# Pattern 2: Inverted Right-Angled Triangle\n",
    "rows = 5\n",
    "i = rows\n",
    "print(\"Pattern 2: Inverted Right-Angled Triangle\")\n",
    "while i >= 1:\n",
    "    j = 1\n",
    "    while j <= i:\n",
    "        print(\"*\", end=\"\")\n",
    "        j += 1\n",
    "    print()\n",
    "    i -= 1\n",
    "\n",
    "print(\"\\n\")\n",
    "\n",
    "# Pattern 3: Pyramid\n",
    "rows = 5\n",
    "i = 1\n",
    "print(\"Pattern 3: Pyramid\")\n",
    "while i <= rows:\n",
    "    # Print leading spaces\n",
    "    spaces = rows - i\n",
    "    while spaces > 0:\n",
    "        print(\" \", end=\"\")\n",
    "        spaces -= 1\n",
    "    # Print stars\n",
    "    stars = 2 * i - 1\n",
    "    while stars > 0:\n",
    "        print(\"*\", end=\"\")\n",
    "        stars -= 1\n",
    "    print()\n",
    "    i += 1"
   ]
  },
  {
   "cell_type": "code",
   "execution_count": 13,
   "id": "84681246-b63c-43f1-ae66-feb30ea02cb9",
   "metadata": {},
   "outputs": [
    {
     "name": "stdout",
     "output_type": "stream",
     "text": [
      "10 9 8 7 6 5 4 3 2 1 \n",
      "Reverse order printed.\n"
     ]
    }
   ],
   "source": [
    "# Question 7 and 8 are repeated  : Reverse While Loop (10 to 1)\n",
    "\n",
    "num = 10\n",
    "while num >= 1:\n",
    "    print(num, end=\" \")\n",
    "    num -= 1\n",
    "\n",
    "print(\"\\nReverse order printed.\")"
   ]
  },
  {
   "cell_type": "code",
   "execution_count": null,
   "id": "de0bee75-1ad2-458e-9808-59c0bbb0edba",
   "metadata": {},
   "outputs": [],
   "source": []
  }
 ],
 "metadata": {
  "kernelspec": {
   "display_name": "Python 3 (ipykernel)",
   "language": "python",
   "name": "python3"
  },
  "language_info": {
   "codemirror_mode": {
    "name": "ipython",
    "version": 3
   },
   "file_extension": ".py",
   "mimetype": "text/x-python",
   "name": "python",
   "nbconvert_exporter": "python",
   "pygments_lexer": "ipython3",
   "version": "3.10.8"
  }
 },
 "nbformat": 4,
 "nbformat_minor": 5
}
